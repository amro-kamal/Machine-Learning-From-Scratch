{
  "nbformat": 4,
  "nbformat_minor": 0,
  "metadata": {
    "colab": {
      "name": "Neural net from scratch.ipynb",
      "provenance": [],
      "collapsed_sections": []
    },
    "kernelspec": {
      "name": "python3",
      "display_name": "Python 3"
    }
  },
  "cells": [
    {
      "cell_type": "code",
      "metadata": {
        "id": "CsdDXe7vF_mU",
        "colab_type": "code",
        "colab": {}
      },
      "source": [
        "import numpy as np\n",
        "import matplotlib.pyplot as plt"
      ],
      "execution_count": null,
      "outputs": []
    },
    {
      "cell_type": "markdown",
      "metadata": {
        "id": "3cEQ2CKq4y6M",
        "colab_type": "text"
      },
      "source": [
        "Simple 2 layers Neural Netwok\n"
      ]
    },
    {
      "cell_type": "code",
      "metadata": {
        "id": "Ok1HZ58-qRAw",
        "colab_type": "code",
        "colab": {}
      },
      "source": [
        "\n",
        "class two_layers_neural_net:\n",
        "  def __init__(self,input,y):\n",
        "    self.input=input\n",
        "    self.input_shape=self.input.shape        #n[0] x m .....3x8\n",
        "    self.y=y                    #n[l] x 1   ............2x8\n",
        "    self.weights1   = np.random.rand(self.input.shape[1],3) \n",
        "    self.weights2   = np.random.rand(3,1) \n",
        "    layer_weights=np.random.rand(self.nodes_per_layer[0],self.input_shape[0])*0.01\n",
        "    layer_bias=np.zeros((self.nodes_per_layer[0],1))\n",
        "    self.weights.append(layer_weights)\n",
        "    self.b.append(layer_bias)\n",
        "    print( 'layer 1 weights shape is',layer_weights.shape)\n",
        "    print( 'layer 1 weights  is \\n',layer_weights)\n",
        "\n",
        "    print( 'layer 1 bias shape is',layer_bias.shape)\n",
        "    print( 'layer 1  bias  is',layer_bias)"
      ],
      "execution_count": null,
      "outputs": []
    },
    {
      "cell_type": "code",
      "metadata": {
        "id": "8OBFaYYEy41J",
        "colab_type": "code",
        "colab": {}
      },
      "source": [
        "# np.random.seed(90) \n",
        "\n",
        "# r=np.random.rand(10)\n",
        "# r1=np.random.rand(10)\n",
        "# print(r)\n",
        "# print(r1)\n",
        "\n",
        "# np.random.seed(90) \n",
        "\n",
        "# r=np.random.rand(10)\n",
        "# r1=np.random.rand(10)\n",
        "# print(r)\n",
        "# print(r1)"
      ],
      "execution_count": null,
      "outputs": []
    },
    {
      "cell_type": "markdown",
      "metadata": {
        "id": "XyvoJSUQ5lJx",
        "colab_type": "text"
      },
      "source": [
        "Simple Neural Network"
      ]
    },
    {
      "cell_type": "code",
      "metadata": {
        "id": "A8Fww03p04o5",
        "colab_type": "code",
        "colab": {}
      },
      "source": [
        "\n",
        "\n",
        "      \n",
        "        \n",
        "\n",
        "class neural_net:\n",
        "  def __init__(self,input,nodes_per_layer,activations,y):\n",
        "#     x shape is  (3, 8)\n",
        "#     X  is \n",
        "#      [[ 3  4  3 33 23 53  3 33]\n",
        "#       [ 4  1  9 42 44 64 64 34]\n",
        "#       [ 2  2  4  2 25 72  2 42]]\n",
        "#     y shape is (2, 8)\n",
        "#     y  is \n",
        "#       [[1 0 1 0 0 1 1 1]\n",
        "#        [1 1 0 0 1 0 1 0]]\n",
        "\n",
        "    self.input=input\n",
        "    self.input_shape=self.input.shape        #n[0] x m .....3x8\n",
        "    self.num_samples=self.input.shape[1]           # 8\n",
        "    self.nodes_per_layer=nodes_per_layer\n",
        "    self.activations=activations\n",
        "    self.y=y                    #n[l] x 1   ............2x8\n",
        "    self.weights=[]\n",
        "    self.b=[]\n",
        "    layer_weights=np.random.rand(self.nodes_per_layer[0],self.input_shape[0])*0.01\n",
        "    layer_bias=np.zeros((self.nodes_per_layer[0],1))\n",
        "    self.weights.append(layer_weights)\n",
        "    self.b.append(layer_bias)\n",
        "    print( 'layer 1 weights shape is',layer_weights.shape)\n",
        "    print( 'layer 1 weights  is \\n',layer_weights)\n",
        "\n",
        "    print( 'layer 1 bias shape is',layer_bias.shape)\n",
        "    print( 'layer 1  bias  is',layer_bias)\n",
        "\n",
        "\n",
        "    for i in range(self.nodes_per_layer.shape[0]-1):    #[4,3,2]\n",
        "      layer_weights=np.random.rand(self.nodes_per_layer[i+1],self.nodes_per_layer[i])*0.01\n",
        "      self.weights.append(layer_weights)\n",
        "      layer_bias=np.zeros((self.nodes_per_layer[i+1],1))\n",
        "      self.b.append(layer_bias)\n",
        "      print( 'layer ',str(i+2) ,' weights shape is',layer_weights.shape)\n",
        "      print( 'layer ',str(i+2) ,' weights  is \\n',layer_weights)\n",
        "\n",
        "      print( 'layer ',str(i+2) ,' bias shape is',layer_bias.shape)\n",
        "      print( 'layer ',str(i+2) ,' bias  is \\n',layer_bias)\n",
        "\n",
        "    \n",
        "\n",
        "  def forward_propagation(self):\n",
        "    print('forward propadation')\n",
        "\n",
        "    self.a=[]         #[4,1],[3,1],[2,1]\n",
        "    z=np.dot(self.weights[0] , self.input) + self.b[0]\n",
        "    self.layer_output =self.Activation(z,self.activations[0]) \n",
        "    self.a.append(self.layer_output)\n",
        "    # print('layer 1 output \\n',self.layer_output)\n",
        "\n",
        "    for i in range(1,self.nodes_per_layer.shape[0]):    #[4,3,2]\n",
        "      z=np.dot(self.weights[i] , self.layer_output) + self.b[i]\n",
        "      self.layer_output=self.Activation(z,self.activations[i]) \n",
        "      self.a.append(self.layer_output)\n",
        "      # print('layer ' , str(i+1) ,' output \\n',self.layer_output)\n",
        "\n",
        "    # print('a= \\n',self.a)\n",
        "\n",
        "\n",
        "  def back_propagation(self):\n",
        "    print('backpropagation')\n",
        "    self.dz=np.empty_like(np.asarray(self.a))\n",
        "    self.dW=np.empty_like(np.asarray(self.weights))\n",
        "    self.db=np.empty_like(np.asarray(self.b))\n",
        "\n",
        "    self.dz[-1]=(self.a[-1]-self.y)\n",
        "    self.dW[-1]=np.dot(self.dz[-1] , self.a[-2].T) * (1/self.num_samples)\n",
        "    self.db[-1]=np.sum(self.dz[-1],axis=0,keepdims=True).T * (1/self.num_samples)\n",
        "\n",
        "    for i in range(-(self.nodes_per_layer.shape[0]-2),1):    #[4,3,2]\n",
        "      i=-i             #1,0\n",
        "      self.dz[i]=np.dot(self.weights[i+1].T ,self.dz[i+1]) * ( self.a[i]*(1-self.a[i]) )\n",
        "      self.db[i]=np.sum(self.dz[i],axis=0,keepdims=True).T * (1/self.num_samples)\n",
        "\n",
        "      if(i!=0):\n",
        "        self.dW[i]=np.dot(self.dz[i] , self.a[i-1].T) * (1/self.num_samples)\n",
        "\n",
        "      elif(i==0):\n",
        "        self.dW[i]=np.dot(self.dz[i] , self.input.T) * (1/self.num_samples)\n",
        "\n",
        "\n",
        "    self.gradient_discent(self.weights,self.dW,0.01)\n",
        "\n",
        "  def gradient_discent(self,w,dw,lr):\n",
        "    self.weights=w-lr * dw\n",
        "\n",
        "    \n",
        "  def train(self,epoch):\n",
        "    self.loss=[]\n",
        "    for i in range(epoch):\n",
        "      print ('epoch ',str(i+1))\n",
        "      self.forward_propagation()\n",
        "      self.loss.append(self.cross_entropy_loss(self.a[-1],self.y))\n",
        "      self.back_propagation()\n",
        "      print('loss= ',self.loss[i])\n",
        "    plt.plot(self.loss)\n",
        "    plt.ylabel('loss')\n",
        "    plt.show()\n",
        "\n",
        "    return self.loss,self.weights\n",
        "\n",
        "  def sigmoid(self,z):\n",
        "    s= 1/(1 + np.exp(-z)) \n",
        "    return s\n",
        "\n",
        "  def Relu(self,z):\n",
        "    return np.maximum(0,z)\n",
        "\n",
        "  def tanh(self,z):\n",
        "    return (np.exp(z) - np.exp(-z))/(np.exp(z) + np.exp(-z))\n",
        "\n",
        "  def softmax(self,y):\n",
        "    exps = np.exp(y)\n",
        "    return exps / np.sum(exps)\n",
        "\n",
        "  def Activation(self,z,method='sigmoid'):\n",
        "    \n",
        "      if (method=='sigmoid'):\n",
        "        return self.sigmoid(z)\n",
        "      elif(method=='tanh'):\n",
        "        return delf.tanh(z)\n",
        "      elif (method=='Relu'):\n",
        "        return delf.Relu(z)\n",
        "        \n",
        "    \n",
        "\n",
        "  def Activation_derivative(self,a,activation='sigmoid'):\n",
        "    if (activation=='sigmoid'):\n",
        "      return a(1-a)\n",
        "    elif (activation=='tanh'):\n",
        "      return 1-a\n",
        "    elif (activation=='Relu'):\n",
        "      return np.minimum(-np.maximum(0,z),1)\n",
        "\n",
        "  def cross_entropy_loss(self,a, y):\n",
        "    return - np.mean(\n",
        "        np.multiply(y, np.log(a)) + np.multiply((1-y), np.log(1-a)))\n",
        "  "
      ],
      "execution_count": null,
      "outputs": []
    },
    {
      "cell_type": "code",
      "metadata": {
        "id": "tSWorzCBgOmx",
        "colab_type": "code",
        "colab": {
          "base_uri": "https://localhost:8080/",
          "height": 52
        },
        "outputId": "d34a5053-1d54-4471-cc2d-e96f3ca81e80"
      },
      "source": [
        "nn.weights[2]"
      ],
      "execution_count": null,
      "outputs": [
        {
          "output_type": "execute_result",
          "data": {
            "text/plain": [
              "array([[0.19658121, 0.89751183, 0.02228812],\n",
              "       [0.9295796 , 0.88364449, 0.88045702]])"
            ]
          },
          "metadata": {
            "tags": []
          },
          "execution_count": 212
        }
      ]
    },
    {
      "cell_type": "code",
      "metadata": {
        "id": "yIFw7R6Egqxt",
        "colab_type": "code",
        "colab": {
          "base_uri": "https://localhost:8080/",
          "height": 34
        },
        "outputId": "a3ad4c79-7f4f-418e-fba6-384e7c4f48bf"
      },
      "source": [
        "nn.weights[2].T.shape"
      ],
      "execution_count": null,
      "outputs": [
        {
          "output_type": "execute_result",
          "data": {
            "text/plain": [
              "(3, 2)"
            ]
          },
          "metadata": {
            "tags": []
          },
          "execution_count": 213
        }
      ]
    },
    {
      "cell_type": "code",
      "metadata": {
        "id": "_Ux34K6Tgw3Y",
        "colab_type": "code",
        "colab": {
          "base_uri": "https://localhost:8080/",
          "height": 87
        },
        "outputId": "e08095ea-e035-449b-c6a1-3cd91df1955e"
      },
      "source": [
        "nn.dz[2]"
      ],
      "execution_count": null,
      "outputs": [
        {
          "output_type": "execute_result",
          "data": {
            "text/plain": [
              "array([[-0.20888674,  0.79107993, -0.20876549,  0.79134245,  0.79134245,\n",
              "        -0.20865755, -0.20877853, -0.20865755],\n",
              "       [-0.06710439, -0.06709321,  0.93300826,  0.93314711, -0.06685289,\n",
              "         0.93314711, -0.06701088,  0.93314711]])"
            ]
          },
          "metadata": {
            "tags": []
          },
          "execution_count": 214
        }
      ]
    },
    {
      "cell_type": "code",
      "metadata": {
        "id": "jEfdeL_YftvD",
        "colab_type": "code",
        "colab": {
          "base_uri": "https://localhost:8080/",
          "height": 34
        },
        "outputId": "ce69065f-0896-4ab1-812b-2a6cf8978c9b"
      },
      "source": [
        "# (nn.a[2]*(1-nn.a[2])).shape\n",
        "np.dot(nn.weights[2].T ,nn.dz[2]).shape"
      ],
      "execution_count": null,
      "outputs": [
        {
          "output_type": "execute_result",
          "data": {
            "text/plain": [
              "(3, 8)"
            ]
          },
          "metadata": {
            "tags": []
          },
          "execution_count": 200
        }
      ]
    },
    {
      "cell_type": "code",
      "metadata": {
        "id": "_g1syxpCJITr",
        "colab_type": "code",
        "colab": {
          "base_uri": "https://localhost:8080/",
          "height": 34
        },
        "outputId": "457e47ff-7bed-40df-fdde-81f260212b75"
      },
      "source": [
        "\n",
        "(nn.a[2]*(1-nn.a[2])).shape"
      ],
      "execution_count": null,
      "outputs": [
        {
          "output_type": "execute_result",
          "data": {
            "text/plain": [
              "(2, 8)"
            ]
          },
          "metadata": {
            "tags": []
          },
          "execution_count": 217
        }
      ]
    },
    {
      "cell_type": "code",
      "metadata": {
        "id": "jPA1aH_61M6C",
        "colab_type": "code",
        "colab": {
          "base_uri": "https://localhost:8080/",
          "height": 710
        },
        "outputId": "3a0566aa-d706-41c6-82e8-44c1347b1f4a"
      },
      "source": [
        "X=np.array([[3,4,2] ,[4,1,2],[3,9,4],[33,42,2],[23,44,25],[53,64,72],[3,64,2],[33,34,42]]).T\n",
        "print('x shape is ',X.shape)\n",
        "\n",
        "print('X  is \\n',X)\n",
        "# print('X.T  is \\n',X.T)\n",
        "\n",
        "# w=np.random.randn(4,3)\n",
        "# print('w = \\n',w)\n",
        "y=np.array([[1,1],[0,1],[1,0],[0,0],[0,1],[1,0],[1,1],[1,0]]).T\n",
        "print('y shape is \\n',y.shape)\n",
        "print('y  is \\n',y)\n",
        "\n",
        "# print('w dot X= \\n',w.dot(X.T))\n",
        "\n",
        "nn=neural_net(X,np.array([4,3,2]),np.array(['sigmoid','sigmoid','sigmoid']),y)   #  (self,input,nodes_per_layer,activations,y):\n"
      ],
      "execution_count": null,
      "outputs": [
        {
          "output_type": "stream",
          "text": [
            "x shape is  (3, 8)\n",
            "X  is \n",
            " [[ 3  4  3 33 23 53  3 33]\n",
            " [ 4  1  9 42 44 64 64 34]\n",
            " [ 2  2  4  2 25 72  2 42]]\n",
            "y shape is \n",
            " (2, 8)\n",
            "y  is \n",
            " [[1 0 1 0 0 1 1 1]\n",
            " [1 1 0 0 1 0 1 0]]\n",
            "layer 1 weights shape is (4, 3)\n",
            "layer 1 weights  is \n",
            " [[0.00388423 0.00707655 0.00959098]\n",
            " [0.00794527 0.00347766 0.0021746 ]\n",
            " [0.00842831 0.00782939 0.00466523]\n",
            " [0.00492321 0.00754987 0.00878896]]\n",
            "layer 1 bias shape is (4, 1)\n",
            "layer 1  bias  is [[0.]\n",
            " [0.]\n",
            " [0.]\n",
            " [0.]]\n",
            "layer  2  weights shape is (3, 4)\n",
            "layer  2  weights  is \n",
            " [[0.00688052 0.00856036 0.00759095 0.00304715]\n",
            " [0.00912847 0.0006284  0.00188361 0.00398751]\n",
            " [0.00395264 0.00761594 0.00371905 0.00449489]]\n",
            "layer  2  bias shape is (3, 1)\n",
            "layer  2  bias  is \n",
            " [[0.]\n",
            " [0.]\n",
            " [0.]]\n",
            "layer  3  weights shape is (2, 3)\n",
            "layer  3  weights  is \n",
            " [[0.00453729 0.00011229 0.00051757]\n",
            " [0.00073397 0.00400627 0.00897952]]\n",
            "layer  3  bias shape is (2, 1)\n",
            "layer  3  bias  is \n",
            " [[0.]\n",
            " [0.]]\n"
          ],
          "name": "stdout"
        }
      ]
    },
    {
      "cell_type": "code",
      "metadata": {
        "id": "8M-Ab4og3ORf",
        "colab_type": "code",
        "colab": {
          "base_uri": "https://localhost:8080/",
          "height": 1000
        },
        "outputId": "3445202e-169f-4da1-cdb1-407cec89dd7c"
      },
      "source": [
        "nn.train(100)\n",
        "\n"
      ],
      "execution_count": null,
      "outputs": [
        {
          "output_type": "stream",
          "text": [
            "epoch  1\n",
            "forward propadation\n",
            "backpropagation\n",
            "loss=  0.6929883926572735\n",
            "epoch  2\n",
            "forward propadation\n",
            "backpropagation\n",
            "loss=  0.6929296703511896\n",
            "epoch  3\n",
            "forward propadation\n",
            "backpropagation\n",
            "loss=  0.6928711707285004\n",
            "epoch  4\n",
            "forward propadation\n",
            "backpropagation\n",
            "loss=  0.6928128929048596\n",
            "epoch  5\n",
            "forward propadation\n",
            "backpropagation\n",
            "loss=  0.6927548359998131\n",
            "epoch  6\n",
            "forward propadation\n",
            "backpropagation\n",
            "loss=  0.6926969991367771\n",
            "epoch  7\n",
            "forward propadation\n",
            "backpropagation\n",
            "loss=  0.6926393814430183\n",
            "epoch  8\n",
            "forward propadation\n",
            "backpropagation\n",
            "loss=  0.6925819820496335\n",
            "epoch  9\n",
            "forward propadation\n",
            "backpropagation\n",
            "loss=  0.6925248000915294\n",
            "epoch  10\n",
            "forward propadation\n",
            "backpropagation\n",
            "loss=  0.6924678347074018\n",
            "epoch  11\n",
            "forward propadation\n",
            "backpropagation\n",
            "loss=  0.6924110850397163\n",
            "epoch  12\n",
            "forward propadation\n",
            "backpropagation\n",
            "loss=  0.6923545502346882\n",
            "epoch  13\n",
            "forward propadation\n",
            "backpropagation\n",
            "loss=  0.6922982294422623\n",
            "epoch  14\n",
            "forward propadation\n",
            "backpropagation\n",
            "loss=  0.6922421218160943\n",
            "epoch  15\n",
            "forward propadation\n",
            "backpropagation\n",
            "loss=  0.6921862265135309\n",
            "epoch  16\n",
            "forward propadation\n",
            "backpropagation\n",
            "loss=  0.6921305426955895\n",
            "epoch  17\n",
            "forward propadation\n",
            "backpropagation\n",
            "loss=  0.6920750695269404\n",
            "epoch  18\n",
            "forward propadation\n",
            "backpropagation\n",
            "loss=  0.6920198061758872\n",
            "epoch  19\n",
            "forward propadation\n",
            "backpropagation\n",
            "loss=  0.6919647518143476\n",
            "epoch  20\n",
            "forward propadation\n",
            "backpropagation\n",
            "loss=  0.6919099056178348\n",
            "epoch  21\n",
            "forward propadation\n",
            "backpropagation\n",
            "loss=  0.691855266765439\n",
            "epoch  22\n",
            "forward propadation\n",
            "backpropagation\n",
            "loss=  0.6918008344398082\n",
            "epoch  23\n",
            "forward propadation\n",
            "backpropagation\n",
            "loss=  0.6917466078271308\n",
            "epoch  24\n",
            "forward propadation\n",
            "backpropagation\n",
            "loss=  0.6916925861171161\n",
            "epoch  25\n",
            "forward propadation\n",
            "backpropagation\n",
            "loss=  0.6916387685029768\n",
            "epoch  26\n",
            "forward propadation\n",
            "backpropagation\n",
            "loss=  0.6915851541814111\n",
            "epoch  27\n",
            "forward propadation\n",
            "backpropagation\n",
            "loss=  0.6915317423525836\n",
            "epoch  28\n",
            "forward propadation\n",
            "backpropagation\n",
            "loss=  0.6914785322201095\n",
            "epoch  29\n",
            "forward propadation\n",
            "backpropagation\n",
            "loss=  0.6914255229910344\n",
            "epoch  30\n",
            "forward propadation\n",
            "backpropagation\n",
            "loss=  0.691372713875819\n",
            "epoch  31\n",
            "forward propadation\n",
            "backpropagation\n",
            "loss=  0.6913201040883195\n",
            "epoch  32\n",
            "forward propadation\n",
            "backpropagation\n",
            "loss=  0.6912676928457719\n",
            "epoch  33\n",
            "forward propadation\n",
            "backpropagation\n",
            "loss=  0.6912154793687744\n",
            "epoch  34\n",
            "forward propadation\n",
            "backpropagation\n",
            "loss=  0.6911634628812688\n",
            "epoch  35\n",
            "forward propadation\n",
            "backpropagation\n",
            "loss=  0.6911116426105259\n",
            "epoch  36\n",
            "forward propadation\n",
            "backpropagation\n",
            "loss=  0.6910600177871266\n",
            "epoch  37\n",
            "forward propadation\n",
            "backpropagation\n",
            "loss=  0.6910085876449453\n",
            "epoch  38\n",
            "forward propadation\n",
            "backpropagation\n",
            "loss=  0.6909573514211348\n",
            "epoch  39\n",
            "forward propadation\n",
            "backpropagation\n",
            "loss=  0.6909063083561073\n",
            "epoch  40\n",
            "forward propadation\n",
            "backpropagation\n",
            "loss=  0.69085545769352\n",
            "epoch  41\n",
            "forward propadation\n",
            "backpropagation\n",
            "loss=  0.6908047986802575\n",
            "epoch  42\n",
            "forward propadation\n",
            "backpropagation\n",
            "loss=  0.6907543305664156\n",
            "epoch  43\n",
            "forward propadation\n",
            "backpropagation\n",
            "loss=  0.6907040526052857\n",
            "epoch  44\n",
            "forward propadation\n",
            "backpropagation\n",
            "loss=  0.6906539640533382\n",
            "epoch  45\n",
            "forward propadation\n",
            "backpropagation\n",
            "loss=  0.6906040641702071\n",
            "epoch  46\n",
            "forward propadation\n",
            "backpropagation\n",
            "loss=  0.6905543522186729\n",
            "epoch  47\n",
            "forward propadation\n",
            "backpropagation\n",
            "loss=  0.6905048274646484\n",
            "epoch  48\n",
            "forward propadation\n",
            "backpropagation\n",
            "loss=  0.6904554891771617\n",
            "epoch  49\n",
            "forward propadation\n",
            "backpropagation\n",
            "loss=  0.6904063366283417\n",
            "epoch  50\n",
            "forward propadation\n",
            "backpropagation\n",
            "loss=  0.6903573690934017\n",
            "epoch  51\n",
            "forward propadation\n",
            "backpropagation\n",
            "loss=  0.6903085858506248\n",
            "epoch  52\n",
            "forward propadation\n",
            "backpropagation\n",
            "loss=  0.6902599861813478\n",
            "epoch  53\n",
            "forward propadation\n",
            "backpropagation\n",
            "loss=  0.6902115693699468\n",
            "epoch  54\n",
            "forward propadation\n",
            "backpropagation\n",
            "loss=  0.6901633347038216\n",
            "epoch  55\n",
            "forward propadation\n",
            "backpropagation\n",
            "loss=  0.690115281473381\n",
            "epoch  56\n",
            "forward propadation\n",
            "backpropagation\n",
            "loss=  0.6900674089720273\n",
            "epoch  57\n",
            "forward propadation\n",
            "backpropagation\n",
            "loss=  0.6900197164961428\n",
            "epoch  58\n",
            "forward propadation\n",
            "backpropagation\n",
            "loss=  0.6899722033450735\n",
            "epoch  59\n",
            "forward propadation\n",
            "backpropagation\n",
            "loss=  0.6899248688211155\n",
            "epoch  60\n",
            "forward propadation\n",
            "backpropagation\n",
            "loss=  0.6898777122294997\n",
            "epoch  61\n",
            "forward propadation\n",
            "backpropagation\n",
            "loss=  0.6898307328783788\n",
            "epoch  62\n",
            "forward propadation\n",
            "backpropagation\n",
            "loss=  0.6897839300788108\n",
            "epoch  63\n",
            "forward propadation\n",
            "backpropagation\n",
            "loss=  0.6897373031447467\n",
            "epoch  64\n",
            "forward propadation\n",
            "backpropagation\n",
            "loss=  0.6896908513930151\n",
            "epoch  65\n",
            "forward propadation\n",
            "backpropagation\n",
            "loss=  0.6896445741433086\n",
            "epoch  66\n",
            "forward propadation\n",
            "backpropagation\n",
            "loss=  0.6895984707181699\n",
            "epoch  67\n",
            "forward propadation\n",
            "backpropagation\n",
            "loss=  0.6895525404429772\n",
            "epoch  68\n",
            "forward propadation\n",
            "backpropagation\n",
            "loss=  0.6895067826459312\n",
            "epoch  69\n",
            "forward propadation\n",
            "backpropagation\n",
            "loss=  0.6894611966580411\n",
            "epoch  70\n",
            "forward propadation\n",
            "backpropagation\n",
            "loss=  0.6894157818131104\n",
            "epoch  71\n",
            "forward propadation\n",
            "backpropagation\n",
            "loss=  0.6893705374477239\n",
            "epoch  72\n",
            "forward propadation\n",
            "backpropagation\n",
            "loss=  0.6893254629012342\n",
            "epoch  73\n",
            "forward propadation\n",
            "backpropagation\n",
            "loss=  0.689280557515748\n",
            "epoch  74\n",
            "forward propadation\n",
            "backpropagation\n",
            "loss=  0.6892358206361128\n",
            "epoch  75\n",
            "forward propadation\n",
            "backpropagation\n",
            "loss=  0.6891912516099037\n",
            "epoch  76\n",
            "forward propadation\n",
            "backpropagation\n",
            "loss=  0.6891468497874101\n",
            "epoch  77\n",
            "forward propadation\n",
            "backpropagation\n",
            "loss=  0.6891026145216232\n",
            "epoch  78\n",
            "forward propadation\n",
            "backpropagation\n",
            "loss=  0.6890585451682221\n",
            "epoch  79\n",
            "forward propadation\n",
            "backpropagation\n",
            "loss=  0.6890146410855613\n",
            "epoch  80\n",
            "forward propadation\n",
            "backpropagation\n",
            "loss=  0.6889709016346581\n",
            "epoch  81\n",
            "forward propadation\n",
            "backpropagation\n",
            "loss=  0.688927326179179\n",
            "epoch  82\n",
            "forward propadation\n",
            "backpropagation\n",
            "loss=  0.6888839140854278\n",
            "epoch  83\n",
            "forward propadation\n",
            "backpropagation\n",
            "loss=  0.6888406647223329\n",
            "epoch  84\n",
            "forward propadation\n",
            "backpropagation\n",
            "loss=  0.6887975774614339\n",
            "epoch  85\n",
            "forward propadation\n",
            "backpropagation\n",
            "loss=  0.6887546516768706\n",
            "epoch  86\n",
            "forward propadation\n",
            "backpropagation\n",
            "loss=  0.6887118867453687\n",
            "epoch  87\n",
            "forward propadation\n",
            "backpropagation\n",
            "loss=  0.6886692820462292\n",
            "epoch  88\n",
            "forward propadation\n",
            "backpropagation\n",
            "loss=  0.6886268369613153\n",
            "epoch  89\n",
            "forward propadation\n",
            "backpropagation\n",
            "loss=  0.6885845508750401\n",
            "epoch  90\n",
            "forward propadation\n",
            "backpropagation\n",
            "loss=  0.6885424231743549\n",
            "epoch  91\n",
            "forward propadation\n",
            "backpropagation\n",
            "loss=  0.6885004532487369\n",
            "epoch  92\n",
            "forward propadation\n",
            "backpropagation\n",
            "loss=  0.6884586404901771\n",
            "epoch  93\n",
            "forward propadation\n",
            "backpropagation\n",
            "loss=  0.6884169842931689\n",
            "epoch  94\n",
            "forward propadation\n",
            "backpropagation\n",
            "loss=  0.6883754840546958\n",
            "epoch  95\n",
            "forward propadation\n",
            "backpropagation\n",
            "loss=  0.6883341391742197\n",
            "epoch  96\n",
            "forward propadation\n",
            "backpropagation\n",
            "loss=  0.6882929490536696\n",
            "epoch  97\n",
            "forward propadation\n",
            "backpropagation\n",
            "loss=  0.688251913097429\n",
            "epoch  98\n",
            "forward propadation\n",
            "backpropagation\n",
            "loss=  0.6882110307123256\n",
            "epoch  99\n",
            "forward propadation\n",
            "backpropagation\n",
            "loss=  0.6881703013076188\n",
            "epoch  100\n",
            "forward propadation\n",
            "backpropagation\n",
            "loss=  0.6881297242949892\n"
          ],
          "name": "stdout"
        },
        {
          "output_type": "display_data",
          "data": {
            "image/png": "[encoded data removed]",
            "text/plain": [
              "<Figure size 432x288 with 1 Axes>"
            ]
          },
          "metadata": {
            "tags": []
          }
        },
        {
          "output_type": "execute_result",
          "data": {
            "text/plain": [
              "([0.6929883926572735,\n",
              "  0.6929296703511896,\n",
              "  0.6928711707285004,\n",
              "  0.6928128929048596,\n",
              "  0.6927548359998131,\n",
              "  0.6926969991367771,\n",
              "  0.6926393814430183,\n",
              "  0.6925819820496335,\n",
              "  0.6925248000915294,\n",
              "  0.6924678347074018,\n",
              "  0.6924110850397163,\n",
              "  0.6923545502346882,\n",
              "  0.6922982294422623,\n",
              "  0.6922421218160943,\n",
              "  0.6921862265135309,\n",
              "  0.6921305426955895,\n",
              "  0.6920750695269404,\n",
              "  0.6920198061758872,\n",
              "  0.6919647518143476,\n",
              "  0.6919099056178348,\n",
              "  0.691855266765439,\n",
              "  0.6918008344398082,\n",
              "  0.6917466078271308,\n",
              "  0.6916925861171161,\n",
              "  0.6916387685029768,\n",
              "  0.6915851541814111,\n",
              "  0.6915317423525836,\n",
              "  0.6914785322201095,\n",
              "  0.6914255229910344,\n",
              "  0.691372713875819,\n",
              "  0.6913201040883195,\n",
              "  0.6912676928457719,\n",
              "  0.6912154793687744,\n",
              "  0.6911634628812688,\n",
              "  0.6911116426105259,\n",
              "  0.6910600177871266,\n",
              "  0.6910085876449453,\n",
              "  0.6909573514211348,\n",
              "  0.6909063083561073,\n",
              "  0.69085545769352,\n",
              "  0.6908047986802575,\n",
              "  0.6907543305664156,\n",
              "  0.6907040526052857,\n",
              "  0.6906539640533382,\n",
              "  0.6906040641702071,\n",
              "  0.6905543522186729,\n",
              "  0.6905048274646484,\n",
              "  0.6904554891771617,\n",
              "  0.6904063366283417,\n",
              "  0.6903573690934017,\n",
              "  0.6903085858506248,\n",
              "  0.6902599861813478,\n",
              "  0.6902115693699468,\n",
              "  0.6901633347038216,\n",
              "  0.690115281473381,\n",
              "  0.6900674089720273,\n",
              "  0.6900197164961428,\n",
              "  0.6899722033450735,\n",
              "  0.6899248688211155,\n",
              "  0.6898777122294997,\n",
              "  0.6898307328783788,\n",
              "  0.6897839300788108,\n",
              "  0.6897373031447467,\n",
              "  0.6896908513930151,\n",
              "  0.6896445741433086,\n",
              "  0.6895984707181699,\n",
              "  0.6895525404429772,\n",
              "  0.6895067826459312,\n",
              "  0.6894611966580411,\n",
              "  0.6894157818131104,\n",
              "  0.6893705374477239,\n",
              "  0.6893254629012342,\n",
              "  0.689280557515748,\n",
              "  0.6892358206361128,\n",
              "  0.6891912516099037,\n",
              "  0.6891468497874101,\n",
              "  0.6891026145216232,\n",
              "  0.6890585451682221,\n",
              "  0.6890146410855613,\n",
              "  0.6889709016346581,\n",
              "  0.688927326179179,\n",
              "  0.6888839140854278,\n",
              "  0.6888406647223329,\n",
              "  0.6887975774614339,\n",
              "  0.6887546516768706,\n",
              "  0.6887118867453687,\n",
              "  0.6886692820462292,\n",
              "  0.6886268369613153,\n",
              "  0.6885845508750401,\n",
              "  0.6885424231743549,\n",
              "  0.6885004532487369,\n",
              "  0.6884586404901771,\n",
              "  0.6884169842931689,\n",
              "  0.6883754840546958,\n",
              "  0.6883341391742197,\n",
              "  0.6882929490536696,\n",
              "  0.688251913097429,\n",
              "  0.6882110307123256,\n",
              "  0.6881703013076188,\n",
              "  0.6881297242949892],\n",
              " array([array([[0.00389529, 0.00721483, 0.0097272 ],\n",
              "        [0.00797368, 0.00362593, 0.00232007],\n",
              "        [0.00844308, 0.00793131, 0.00476528],\n",
              "        [0.00492605, 0.00763006, 0.00886512]]),\n",
              "        array([[0.00752349, 0.00911486, 0.00820708, 0.00368839],\n",
              "        [0.00966602, 0.00109326, 0.00239772, 0.00452318],\n",
              "        [0.00447285, 0.00806798, 0.00421526, 0.0050127 ]]),\n",
              "        array([[ 0.06170959,  0.05710208,  0.05756793],\n",
              "        [-0.0001748 ,  0.00314403,  0.00810365]])], dtype=object))"
            ]
          },
          "metadata": {
            "tags": []
          },
          "execution_count": 261
        }
      ]
    },
    {
      "cell_type": "code",
      "metadata": {
        "id": "XtjQw_JPSFDD",
        "colab_type": "code",
        "colab": {
          "base_uri": "https://localhost:8080/",
          "height": 34
        },
        "outputId": "dae9257d-2d8f-4a56-9970-9acad97324c7"
      },
      "source": [
        "nn.dW[1].shape"
      ],
      "execution_count": null,
      "outputs": [
        {
          "output_type": "execute_result",
          "data": {
            "text/plain": [
              "(2, 3)"
            ]
          },
          "metadata": {
            "tags": []
          },
          "execution_count": 231
        }
      ]
    },
    {
      "cell_type": "code",
      "metadata": {
        "id": "68ZtH0XXSovm",
        "colab_type": "code",
        "colab": {
          "base_uri": "https://localhost:8080/",
          "height": 34
        },
        "outputId": "a3bd7f36-3fdb-4df1-b946-d5d997da76fb"
      },
      "source": [
        "nn.weights[1].shape"
      ],
      "execution_count": null,
      "outputs": [
        {
          "output_type": "execute_result",
          "data": {
            "text/plain": [
              "(3, 4)"
            ]
          },
          "metadata": {
            "tags": []
          },
          "execution_count": 232
        }
      ]
    },
    {
      "cell_type": "code",
      "metadata": {
        "id": "6tzNGnIByZ1b",
        "colab_type": "code",
        "colab": {
          "base_uri": "https://localhost:8080/",
          "height": 52
        },
        "outputId": "1437a93c-be64-4e9c-ec86-c306aa4d151b"
      },
      "source": [
        "a =np.array([[1,2,3],[4,2,5]])\n",
        "b =np.array([[-1,-2,1],[4,-3,1],[1,2,9]])\n",
        "c=a.dot(b)\n",
        "c"
      ],
      "execution_count": null,
      "outputs": [
        {
          "output_type": "execute_result",
          "data": {
            "text/plain": [
              "array([[10, -2, 30],\n",
              "       [ 9, -4, 51]])"
            ]
          },
          "metadata": {
            "tags": []
          },
          "execution_count": 7
        }
      ]
    },
    {
      "cell_type": "code",
      "metadata": {
        "id": "EwZrHURyQ3w1",
        "colab_type": "code",
        "colab": {
          "base_uri": "https://localhost:8080/",
          "height": 34
        },
        "outputId": "379a2a9a-b8f4-44bd-9f31-87a08de11356"
      },
      "source": [
        "w=np.array([[-1,-2],[4,-3],[1,2]])\n",
        "w.shape"
      ],
      "execution_count": null,
      "outputs": [
        {
          "output_type": "execute_result",
          "data": {
            "text/plain": [
              "(3, 2)"
            ]
          },
          "metadata": {
            "tags": []
          },
          "execution_count": 33
        }
      ]
    },
    {
      "cell_type": "code",
      "metadata": {
        "id": "43qTVPzjRKNn",
        "colab_type": "code",
        "colab": {
          "base_uri": "https://localhost:8080/",
          "height": 52
        },
        "outputId": "ac7fa56b-e3c2-49f7-a7e5-7d2c1a5b6902"
      },
      "source": [
        "a=[]\n",
        "X=np.array([[1,2],[5,6]])\n",
        "X"
      ],
      "execution_count": null,
      "outputs": [
        {
          "output_type": "execute_result",
          "data": {
            "text/plain": [
              "array([[1, 2],\n",
              "       [5, 6]])"
            ]
          },
          "metadata": {
            "tags": []
          },
          "execution_count": 43
        }
      ]
    },
    {
      "cell_type": "code",
      "metadata": {
        "id": "jwQKhKuRSMh2",
        "colab_type": "code",
        "colab": {
          "base_uri": "https://localhost:8080/",
          "height": 87
        },
        "outputId": "083a2d29-5e94-4e43-86c1-43d276c89207"
      },
      "source": [
        "def sigmoid(z):\n",
        "  s= 1/(1 + np.exp(-z)) \n",
        "  return s\n",
        "def Relu(z):\n",
        "  return np.maximum(0,z)\n",
        "\n",
        "def tanh(z):\n",
        "  return (np.exp(z) - np.exp(-z))/(np.exp(z) + np.exp(-z))\n",
        "\n",
        "def softmax(y):\n",
        "  exps = np.exp(y)\n",
        "  return exps / np.sum(exps)\n",
        "\n",
        "def Activation(z,method='sigmoid'):\n",
        "  if (method=='sigmoid'):\n",
        "    print('activation =sigmoid')\n",
        "    return sigmoid(z)\n",
        "  elif (method=='Relu'):\n",
        "    return Relu(z)\n",
        "\n",
        "z=np.dot(w , X).T\n",
        "layer_output =Activation(z,'sigmoid') \n",
        "a.append(layer_output)\n",
        "print(z)\n",
        "print(np.sum(z,axis=0,keepdims=True).T.shape)"
      ],
      "execution_count": null,
      "outputs": [
        {
          "output_type": "stream",
          "text": [
            "activation =sigmoid\n",
            "[[-11 -11  11]\n",
            " [-14 -10  14]]\n",
            "(3, 1)\n"
          ],
          "name": "stdout"
        }
      ]
    },
    {
      "cell_type": "code",
      "metadata": {
        "id": "JpchiX7w65XK",
        "colab_type": "code",
        "colab": {
          "base_uri": "https://localhost:8080/",
          "height": 87
        },
        "outputId": "81097691-f12d-4a82-eecb-c40fee5c0ba3"
      },
      "source": [
        "for i in range(4):\n",
        "  \n",
        "  print (i)"
      ],
      "execution_count": null,
      "outputs": [
        {
          "output_type": "stream",
          "text": [
            "0\n",
            "1\n",
            "2\n",
            "3\n"
          ],
          "name": "stdout"
        }
      ]
    },
    {
      "cell_type": "code",
      "metadata": {
        "id": "NGMv6tJ7gEaq",
        "colab_type": "code",
        "colab": {}
      },
      "source": [
        "dic={2:'sigmoid',3:\"Relu\"}"
      ],
      "execution_count": null,
      "outputs": []
    },
    {
      "cell_type": "code",
      "metadata": {
        "id": "eGT3bquAgMO1",
        "colab_type": "code",
        "colab": {
          "base_uri": "https://localhost:8080/",
          "height": 34
        },
        "outputId": "cf54472c-61fb-4fac-fcfd-4868dd370633"
      },
      "source": [
        "dic.keys()"
      ],
      "execution_count": null,
      "outputs": [
        {
          "output_type": "execute_result",
          "data": {
            "text/plain": [
              "dict_keys([2, 3])"
            ]
          },
          "metadata": {
            "tags": []
          },
          "execution_count": 39
        }
      ]
    },
    {
      "cell_type": "code",
      "metadata": {
        "id": "hymGTWs_YIc8",
        "colab_type": "code",
        "colab": {
          "base_uri": "https://localhost:8080/",
          "height": 292
        },
        "outputId": "551d2726-dd58-45b2-aacf-d9996c54bac6"
      },
      "source": [
        "net=neural_net(np.array([2,4,5]),{4:'sigmoid',3:'sigmoid',2:'Relu'})"
      ],
      "execution_count": null,
      "outputs": [
        {
          "output_type": "error",
          "ename": "TypeError",
          "evalue": "ignored",
          "traceback": [
            "\u001b[0;31m---------------------------------------------------------------------------\u001b[0m",
            "\u001b[0;31mTypeError\u001b[0m                                 Traceback (most recent call last)",
            "\u001b[0;32m<ipython-input-35-6032d16a306d>\u001b[0m in \u001b[0;36m<module>\u001b[0;34m()\u001b[0m\n\u001b[0;32m----> 1\u001b[0;31m \u001b[0mnet\u001b[0m\u001b[0;34m=\u001b[0m\u001b[0mneural_net\u001b[0m\u001b[0;34m(\u001b[0m\u001b[0mnp\u001b[0m\u001b[0;34m.\u001b[0m\u001b[0marray\u001b[0m\u001b[0;34m(\u001b[0m\u001b[0;34m[\u001b[0m\u001b[0;36m2\u001b[0m\u001b[0;34m,\u001b[0m\u001b[0;36m4\u001b[0m\u001b[0;34m,\u001b[0m\u001b[0;36m5\u001b[0m\u001b[0;34m]\u001b[0m\u001b[0;34m)\u001b[0m\u001b[0;34m,\u001b[0m\u001b[0;34m{\u001b[0m\u001b[0;36m4\u001b[0m\u001b[0;34m:\u001b[0m\u001b[0;34m'sigmoid'\u001b[0m\u001b[0;34m,\u001b[0m\u001b[0;36m3\u001b[0m\u001b[0;34m:\u001b[0m\u001b[0;34m'sigmoid'\u001b[0m\u001b[0;34m,\u001b[0m\u001b[0;36m2\u001b[0m\u001b[0;34m:\u001b[0m\u001b[0;34m'Relu'\u001b[0m\u001b[0;34m}\u001b[0m\u001b[0;34m)\u001b[0m\u001b[0;34m\u001b[0m\u001b[0;34m\u001b[0m\u001b[0m\n\u001b[0m",
            "\u001b[0;32m<ipython-input-34-8a98d3f5300f>\u001b[0m in \u001b[0;36m__init__\u001b[0;34m(self, input, nodes_per_layer)\u001b[0m\n\u001b[1;32m      5\u001b[0m     \u001b[0mself\u001b[0m\u001b[0;34m.\u001b[0m\u001b[0mnodes_per_layer\u001b[0m\u001b[0;34m=\u001b[0m\u001b[0mnodes_per_layer\u001b[0m\u001b[0;34m\u001b[0m\u001b[0;34m\u001b[0m\u001b[0m\n\u001b[1;32m      6\u001b[0m     \u001b[0mself\u001b[0m\u001b[0;34m.\u001b[0m\u001b[0mweights\u001b[0m\u001b[0;34m=\u001b[0m\u001b[0;34m[\u001b[0m\u001b[0;34m]\u001b[0m\u001b[0;34m\u001b[0m\u001b[0;34m\u001b[0m\u001b[0m\n\u001b[0;32m----> 7\u001b[0;31m     \u001b[0mlayer_weights\u001b[0m\u001b[0;34m=\u001b[0m\u001b[0mnp\u001b[0m\u001b[0;34m.\u001b[0m\u001b[0mrandom\u001b[0m\u001b[0;34m.\u001b[0m\u001b[0mrand\u001b[0m\u001b[0;34m(\u001b[0m\u001b[0mself\u001b[0m\u001b[0;34m.\u001b[0m\u001b[0mnodes_per_layer\u001b[0m\u001b[0;34m.\u001b[0m\u001b[0mkeys\u001b[0m\u001b[0;34m[\u001b[0m\u001b[0;36m0\u001b[0m\u001b[0;34m]\u001b[0m\u001b[0;34m,\u001b[0m\u001b[0mself\u001b[0m\u001b[0;34m.\u001b[0m\u001b[0minput_shape\u001b[0m\u001b[0;34m)\u001b[0m\u001b[0;34m\u001b[0m\u001b[0;34m\u001b[0m\u001b[0m\n\u001b[0m\u001b[1;32m      8\u001b[0m     \u001b[0mself\u001b[0m\u001b[0;34m.\u001b[0m\u001b[0mweights\u001b[0m\u001b[0;34m.\u001b[0m\u001b[0mappend\u001b[0m\u001b[0;34m(\u001b[0m\u001b[0mlayer_weights\u001b[0m\u001b[0;34m)\u001b[0m\u001b[0;34m\u001b[0m\u001b[0;34m\u001b[0m\u001b[0m\n\u001b[1;32m      9\u001b[0m     \u001b[0;32mfor\u001b[0m \u001b[0mi\u001b[0m \u001b[0;32min\u001b[0m \u001b[0mrange\u001b[0m\u001b[0;34m(\u001b[0m\u001b[0mlen\u001b[0m\u001b[0;34m(\u001b[0m\u001b[0mself\u001b[0m\u001b[0;34m.\u001b[0m\u001b[0mnodes_per_layer\u001b[0m\u001b[0;34m)\u001b[0m\u001b[0;34m-\u001b[0m\u001b[0;36m1\u001b[0m\u001b[0;34m)\u001b[0m\u001b[0;34m:\u001b[0m    \u001b[0;31m#[4,3,2]\u001b[0m\u001b[0;34m\u001b[0m\u001b[0;34m\u001b[0m\u001b[0m\n",
            "\u001b[0;31mTypeError\u001b[0m: 'builtin_function_or_method' object is not subscriptable"
          ]
        }
      ]
    },
    {
      "cell_type": "code",
      "metadata": {
        "id": "eI5hSstbaYRL",
        "colab_type": "code",
        "colab": {
          "base_uri": "https://localhost:8080/",
          "height": 34
        },
        "outputId": "71cc6718-852d-42f8-dfa9-bc38d718afe6"
      },
      "source": [
        "net.input"
      ],
      "execution_count": null,
      "outputs": [
        {
          "output_type": "execute_result",
          "data": {
            "text/plain": [
              "array([2, 4, 5])"
            ]
          },
          "metadata": {
            "tags": []
          },
          "execution_count": 31
        }
      ]
    },
    {
      "cell_type": "code",
      "metadata": {
        "id": "EQ7sSCMWF7ws",
        "colab_type": "code",
        "colab": {}
      },
      "source": [
        "input=np.array([[1,2,3],[1,2,3]])"
      ],
      "execution_count": null,
      "outputs": []
    },
    {
      "cell_type": "code",
      "metadata": {
        "id": "tZ-JuUFfGFvp",
        "colab_type": "code",
        "colab": {
          "base_uri": "https://localhost:8080/",
          "height": 167
        },
        "outputId": "e073ab66-11c6-4466-8207-c80eda041da0"
      },
      "source": [
        "input.size[1]"
      ],
      "execution_count": null,
      "outputs": [
        {
          "output_type": "error",
          "ename": "TypeError",
          "evalue": "ignored",
          "traceback": [
            "\u001b[0;31m---------------------------------------------------------------------------\u001b[0m",
            "\u001b[0;31mTypeError\u001b[0m                                 Traceback (most recent call last)",
            "\u001b[0;32m<ipython-input-16-e2790f6ce319>\u001b[0m in \u001b[0;36m<module>\u001b[0;34m()\u001b[0m\n\u001b[0;32m----> 1\u001b[0;31m \u001b[0minput\u001b[0m\u001b[0;34m.\u001b[0m\u001b[0msize\u001b[0m\u001b[0;34m[\u001b[0m\u001b[0;36m1\u001b[0m\u001b[0;34m]\u001b[0m\u001b[0;34m\u001b[0m\u001b[0;34m\u001b[0m\u001b[0m\n\u001b[0m",
            "\u001b[0;31mTypeError\u001b[0m: 'int' object is not subscriptable"
          ]
        }
      ]
    },
    {
      "cell_type": "code",
      "metadata": {
        "id": "Qh7R2fgoGL6i",
        "colab_type": "code",
        "colab": {
          "base_uri": "https://localhost:8080/",
          "height": 34
        },
        "outputId": "e8f3f3b4-0558-4226-8b25-189c264f5181"
      },
      "source": [
        "input.shape"
      ],
      "execution_count": null,
      "outputs": [
        {
          "output_type": "execute_result",
          "data": {
            "text/plain": [
              "(3,)"
            ]
          },
          "metadata": {
            "tags": []
          },
          "execution_count": 6
        }
      ]
    },
    {
      "cell_type": "code",
      "metadata": {
        "id": "Z9Haq52VGPGy",
        "colab_type": "code",
        "colab": {
          "base_uri": "https://localhost:8080/",
          "height": 70
        },
        "outputId": "65b69bfe-32f4-451d-ad47-afec07d681d4"
      },
      "source": [
        "for i in input:\n",
        "  print (i)"
      ],
      "execution_count": null,
      "outputs": [
        {
          "output_type": "stream",
          "text": [
            "1\n",
            "2\n",
            "3\n"
          ],
          "name": "stdout"
        }
      ]
    },
    {
      "cell_type": "code",
      "metadata": {
        "id": "o9GSGjq1G1MX",
        "colab_type": "code",
        "colab": {}
      },
      "source": [
        ""
      ],
      "execution_count": null,
      "outputs": []
    }
  ]
}
